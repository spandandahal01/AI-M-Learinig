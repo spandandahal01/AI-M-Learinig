{
  "cells": [
    {
      "cell_type": "markdown",
      "metadata": {
        "id": "3EhkpvhMw1rD"
      },
      "source": [
        "## Introduction\n",
        "\n",
        "This worksheet focuses on implementing and understanding the McCulloch-Pitts (MCP) neuron and the Perceptron model. Through this assignment, I will implement these models from scratch in Python and analyze their capabilities and limitations."
      ]
    },
    {
      "cell_type": "markdown",
      "metadata": {
        "id": "UpsvOTMNw1rH"
      },
      "source": [
        "## Task 1: Implementation of MCP Neurons\n",
        "\n",
        "The McCulloch-Pitts (MCP) neuron is one of the earliest computational models of a neuron, proposed in 1943. It's a simplified representation that processes binary inputs to produce binary outputs based on a threshold function.\n",
        "\n",
        "### Implementation of MCP Neuron for AND Operation"
      ]
    },
    {
      "cell_type": "code",
      "execution_count": null,
      "metadata": {
        "id": "l7tLrXudw1rI"
      },
      "outputs": [],
      "source": [
        "def MCP_Neurons_AND(X1, X2, T):\n",
        "    \"\"\"\n",
        "    This function implements basic AND operations with MCP Neuron for two inputs.\n",
        "    Arguments:\n",
        "    Inputs:\n",
        "    X1 (1D array): An array of binary values.\n",
        "    X2 (1D array): An array of binary values.\n",
        "    T (int): Threshold value.\n",
        "    Output:\n",
        "    state_neuron (1D list): The state of the neuron (1 or 0) for the given inputs.\n",
        "    \"\"\"\n",
        "    assert len(X1) == len(X2), \"Input arrays must have the same length.\"\n",
        "\n",
        "    state_neuron = []\n",
        "    for x1, x2 in zip(X1, X2):\n",
        "        if x1 + x2 >= T:\n",
        "            state_neuron.append(1)\n",
        "        else:\n",
        "            state_neuron.append(0)\n",
        "\n",
        "    return state_neuron"
      ]
    },
    {
      "cell_type": "code",
      "execution_count": null,
      "metadata": {
        "id": "xEnhJ6giw1rK",
        "outputId": "6a148aa5-af21-4601-a08a-173f3083dd95"
      },
      "outputs": [
        {
          "name": "stdout",
          "output_type": "stream",
          "text": [
            "Output of AND gate for inputs [0, 0, 1, 1] and [0, 1, 0, 1] with threshold 2: [0, 0, 0, 1]\n"
          ]
        }
      ],
      "source": [
        "# Example usage for MCP_Neurons_AND function\n",
        "X1 = [0, 0, 1, 1]\n",
        "X2 = [0, 1, 0, 1]\n",
        "T = 2 # Threshold value\n",
        "# Call the MCP_Neurons_AND function\n",
        "result = MCP_Neurons_AND(X1, X2, T)\n",
        "# Print the result\n",
        "print(f\"Output of AND gate for inputs {X1} and {X2} with threshold {T}: {result}\")"
      ]
    },
    {
      "cell_type": "markdown",
      "metadata": {
        "id": "ScpS3iNRw1rL"
      },
      "source": [
        "### Implementation of MCP Neuron for OR Operation"
      ]
    },
    {
      "cell_type": "code",
      "execution_count": null,
      "metadata": {
        "id": "-IToPAp1w1rL"
      },
      "outputs": [],
      "source": [
        "def MCP_Neurons_OR(X1, X2, T):\n",
        "    \"\"\"\n",
        "    This function implements basic OR operations with MCP Neuron for two inputs.\n",
        "    Arguments:\n",
        "    Inputs:\n",
        "    X1 (1D array): An array of binary values.\n",
        "    X2 (1D array): An array of binary values.\n",
        "    T (int): Threshold value.\n",
        "    Output:\n",
        "    state_neuron (1D list): The state of the neuron (1 or 0) for the given inputs.\n",
        "    \"\"\"\n",
        "    assert len(X1) == len(X2), \"Input arrays must have the same length.\"\n",
        "\n",
        "    state_neuron = []\n",
        "    for x1, x2 in zip(X1, X2):\n",
        "        if x1 + x2 >= T:\n",
        "            state_neuron.append(1)\n",
        "        else:\n",
        "            state_neuron.append(0)\n",
        "\n",
        "    return state_neuron"
      ]
    },
    {
      "cell_type": "code",
      "execution_count": null,
      "metadata": {
        "id": "n2pXboJ4w1rM",
        "outputId": "503e42de-3bcc-46dc-ebf9-0177b3a59fe5"
      },
      "outputs": [
        {
          "name": "stdout",
          "output_type": "stream",
          "text": [
            "Output of OR gate for inputs [0, 0, 1, 1] and [0, 1, 0, 1] with threshold 1: [0, 1, 1, 1]\n"
          ]
        }
      ],
      "source": [
        "# Example usage for MCP_Neurons_OR function\n",
        "X1 = [0, 0, 1, 1]\n",
        "X2 = [0, 1, 0, 1]\n",
        "T = 1 # Threshold value for OR gate\n",
        "# Call the MCP_Neurons_OR function\n",
        "result_or = MCP_Neurons_OR(X1, X2, T)\n",
        "# Print the result\n",
        "print(f\"Output of OR gate for inputs {X1} and {X2} with threshold {T}: {result_or}\")"
      ]
    },
    {
      "cell_type": "markdown",
      "metadata": {
        "id": "ITaTg81rw1rM"
      },
      "source": [
        "### Question 1: Limitations of MCP Neurons\n",
        "\n",
        "The MCP neuron model, while historically significant as one of the first computational models of a neuron, has several key limitations:\n",
        "\n",
        "1. **Binary Inputs and Output**: MCP neurons can only handle binary (0 or 1) inputs and produce binary outputs, limiting their applicability to real-world problems with continuous values.\n",
        "\n",
        "2. **Fixed Weights**: The weights in MCP neurons are fixed (typically 1) and cannot be learned or adjusted based on data, making them incapable of adapting to patterns.\n",
        "\n",
        "3. **No Learning Capability**: Unlike more advanced neural models, MCP neurons have no learning algorithm and must be manually configured.\n",
        "\n",
        "4. **Cannot Solve Non-linearly Separable Problems**: MCP neurons cannot solve problems that require non-linear decision boundaries, such as the XOR problem.\n",
        "\n",
        "5. **Limited Computational Power**: They can only implement simple logical functions (AND, OR, NOT) but struggle with more complex functions.\n",
        "\n",
        "6. **Absence of Bias Term**: Without a learnable bias term, their decision boundary must pass through the origin, further limiting their flexibility.\n",
        "\n",
        "7. **Temporal Processing**: They lack the ability to process sequential data or maintain state over time."
      ]
    },
    {
      "cell_type": "markdown",
      "metadata": {
        "id": "S_UZnLkhw1rN"
      },
      "source": [
        "### Question 2: XOR Function using MCP Neurons\n",
        "\n",
        "The XOR (exclusive OR) function cannot be implemented using a single MCP neuron because it is not linearly separable. This means no single straight line can separate the inputs that produce a 0 output from those that produce a 1 output.\n",
        "\n",
        "However, we can implement XOR using multiple MCP neurons arranged in a network:\n",
        "\n",
        "1. First layer:\n",
        "   - Neuron 1: Implements OR function (threshold = 1)\n",
        "   - Neuron 2: Implements AND function (threshold = 2)\n",
        "\n",
        "2. Second layer:\n",
        "   - Neuron 3: Takes output from Neuron 1 and inverted output from Neuron 2 (AND NOT)\n",
        "\n",
        "This network structure effectively computes (X1 OR X2) AND NOT(X1 AND X2), which is the definition of XOR.\n",
        "\n",
        "This demonstrates that while a single MCP neuron is limited, networks of MCP neurons can implement more complex functions. This insight was crucial for the development of multi-layer neural networks."
      ]
    },
    {
      "cell_type": "markdown",
      "metadata": {
        "id": "mAZSjfB-w1rN"
      },
      "source": [
        "## Task 2: Perceptron Algorithm for 0 vs 1 Classification\n",
        "\n",
        "The Perceptron extends the MCP neuron by incorporating learnable weights and an adaptive learning process. It serves as a linear binary classifier that can find a decision boundary between two classes of data."
      ]
    },
    {
      "cell_type": "markdown",
      "metadata": {
        "id": "hEgTv6kiw1rN"
      },
      "source": [
        "### Loading and Visualizing the Dataset"
      ]
    },
    {
      "cell_type": "code",
      "execution_count": null,
      "metadata": {
        "id": "ZreT8vOUw1rO",
        "outputId": "173b73e9-0c76-4c12-e80b-0353345c2dac"
      },
      "outputs": [
        {
          "name": "stdout",
          "output_type": "stream",
          "text": [
            "Feature matrix shape: (12665, 784)\n",
            "Label vector shape: (12665,)\n"
          ]
        }
      ],
      "source": [
        "import pandas as pd\n",
        "import numpy as np\n",
        "\n",
        "# Load the dataset\n",
        "df_0_1 = pd.read_csv(\"./mnist_0_and_1.csv\") # Add the correct file path if necessary\n",
        "\n",
        "# Extract features and labels\n",
        "X = df_3_5.drop(columns=[\"label\"]).values # 784 pixels\n",
        "y = df_3_5[\"label\"].values # Labels (0 or 1)\n",
        "\n",
        "# Check the shape of the features and labels\n",
        "print(\"Feature matrix shape:\", X.shape)\n",
        "print(\"Label vector shape:\", y.shape)"
      ]
    },
    {
      "cell_type": "markdown",
      "metadata": {
        "id": "qSRlV68ow1rO"
      },
      "source": [
        "### Answer to Question 1: What does the shape of X represent?\n",
        "\n",
        "The shape of X represents the dimensions of our feature matrix. We have the output (12665, 784), it means we have:\n",
        "- 12,665 samples (rows) - Each row represents one image of either digit 0 or digit 1\n",
        "- 784 features (columns) - Each column represents one pixel value in the 28×28 = 784 pixel image"
      ]
    },
    {
      "cell_type": "markdown",
      "metadata": {
        "id": "BPhZtfLsw1rO"
      },
      "source": [
        "### Answer to Question 2: What does the shape of y represent?\n",
        "\n",
        "The shape of y represents the dimensions of our label vector. If the output is something like (12665,), it means we have:\n",
        "- 12,665 labels, one for each sample in our dataset\n",
        "- Each value is either 0 or 1, indicating which digit the corresponding image represents"
      ]
    },
    {
      "cell_type": "code",
      "execution_count": null,
      "metadata": {
        "id": "79cgbFWGw1rO",
        "outputId": "806c0622-a386-4cca-9556-f0182e941fa3"
      },
      "outputs": [
        {
          "data": {
            "image/png": "[encoded data removed]",
            "text/plain": [
              "<Figure size 1000x500 with 10 Axes>"
            ]
          },
          "metadata": {},
          "output_type": "display_data"
        }
      ],
      "source": [
        "import matplotlib.pyplot as plt\n",
        "\n",
        "# Separate images for label 0 and label 1\n",
        "images_0 = X[y == 0] # Get all images with label 0\n",
        "images_1 = X[y == 1] # Get all images with label 1\n",
        "fig, axes = plt.subplots(2, 5, figsize=(10, 5))\n",
        "# Check if the arrays have the required amount of data\n",
        "if len(images_0) < 5 or len(images_1) < 5:\n",
        "    print(\"Error: Not enough images in images_0 or images_1 to plot 5 images.\")\n",
        "else:\n",
        "    for i in range(5):\n",
        "        # Plot digit 0\n",
        "        axes[0, i].imshow(images_0[i].reshape(28, 28), cmap=\"gray\")\n",
        "        axes[0, i].set_title(\"Label: 0\")\n",
        "        axes[0, i].axis(\"off\")\n",
        "        # Plot digit 1\n",
        "        axes[1, i].imshow(images_1[i].reshape(28, 28), cmap=\"gray\")\n",
        "        axes[1, i].set_title(\"Label: 1\")\n",
        "        axes[1, i].axis(\"off\")\n",
        "    plt.suptitle(\"First 5 Images of 0 and 1 from MNIST Subset\")\n",
        "    plt.show()"
      ]
    },
    {
      "cell_type": "markdown",
      "metadata": {
        "id": "E3fvRwoUw1rP"
      },
      "source": [
        "### Initialize Weights and Bias"
      ]
    },
    {
      "cell_type": "code",
      "execution_count": null,
      "metadata": {
        "id": "iw6qbuyPw1rP"
      },
      "outputs": [],
      "source": [
        "# Initialize weights and bias\n",
        "weights = np.zeros(X.shape[1]) # 784 weights (one for each pixel)\n",
        "bias = 0\n",
        "learning_rate = 0.1\n",
        "epochs = 100"
      ]
    },
    {
      "cell_type": "markdown",
      "metadata": {
        "id": "hij5ZjTUw1rP"
      },
      "source": [
        "### Answer to Question 3: What does the weights array represent in this context?\n",
        "\n",
        "The weights array represents the importance or contribution of each pixel (feature) to the classification decision. With 784 weights, there is one weight for each pixel in the 28×28 image. During training, these weights will be adjusted so that pixels that are more important for distinguishing between digits 0 and 1 will have larger absolute weight values."
      ]
    },
    {
      "cell_type": "markdown",
      "metadata": {
        "id": "eEAU5m8Ow1rP"
      },
      "source": [
        "### Answer to Question 4: Why are we initializing the weights to zero? What effect could this have on the training process?\n",
        "\n",
        "We are initializing the weights to zero as a starting point for the perceptron learning algorithm. This is a common practice for the perceptron specifically because:\n",
        "\n",
        "1. The perceptron algorithm is guaranteed to converge to a solution (if one exists) regardless of the initial weights.\n",
        "2. Starting with zeros makes the first predictions uniform (all the same class), allowing the algorithm to systematically adjust weights based on misclassifications.\n",
        "\n",
        "However, this initialization approach has limitations:\n",
        "- If we were using more complex neural networks with gradient-based learning (like backpropagation), zero initialization would cause all neurons to learn the same features.\n",
        "- For perceptrons on real data, zero initialization might make the algorithm start by classifying all samples as the same class, requiring more updates to correct.\n",
        "- The direction of the first weight update is entirely determined by the first misclassified example, which can introduce some randomness in convergence."
      ]
    },
    {
      "cell_type": "markdown",
      "metadata": {
        "id": "5A90Yl_9w1rP"
      },
      "source": [
        "### Implementation of Decision Function"
      ]
    },
    {
      "cell_type": "code",
      "execution_count": null,
      "metadata": {
        "id": "B04Hn-2vw1rQ"
      },
      "outputs": [],
      "source": [
        "def decision_function(X, weights, bias):\n",
        "    \"\"\"\n",
        "    Compute the predicted labels for the input data.\n",
        "    Parameters:\n",
        "    - X: Features (input data) as a numpy array of shape (n_samples, n_features)\n",
        "    - weights: Updated weights after training\n",
        "    - bias: Updated bias after training\n",
        "    Returns:\n",
        "    - y_pred_all: The predicted labels for the input data\n",
        "    \"\"\"\n",
        "    predictions = np.dot(X, weights) + bias\n",
        "    # Activation function (step function)\n",
        "    y_pred_all = np.where(predictions >= 0, 1, 0)\n",
        "    return y_pred_all"
      ]
    },
    {
      "cell_type": "markdown",
      "metadata": {
        "id": "ySSp4zS1w1rQ"
      },
      "source": [
        "### Training the Perceptron"
      ]
    },
    {
      "cell_type": "code",
      "execution_count": null,
      "metadata": {
        "id": "oiX0NYXVw1rQ"
      },
      "outputs": [],
      "source": [
        "def train_perceptron(X, y, weights, bias, learning_rate=0.1, epochs=100):\n",
        "    \"\"\"\n",
        "    Train the perceptron using the Perceptron Learning Algorithm.\n",
        "    Parameters:\n",
        "    - X: Features (input data) as a numpy array of shape (n_samples, n_features)\n",
        "    - y: Labels (true output) as a numpy array of shape (n_samples,)\n",
        "    - weights: Initial weights as a numpy array of shape (n_features,)\n",
        "    - bias: Initial bias value (scalar)\n",
        "    - learning_rate: Learning rate for weight updates (default is 0.1)\n",
        "    - epochs: Number of iterations to train the model (default is 100)\n",
        "    Returns:\n",
        "    - weights: Updated weights after training\n",
        "    - bias: Updated bias after training\n",
        "    - accuracy: Total correct predictions after the final epoch.\n",
        "    \"\"\"\n",
        "    for epoch in range(epochs):\n",
        "        correct_predictions = 0\n",
        "        for i in range(len(y)):\n",
        "            # Compute the prediction\n",
        "            linear_output = np.dot(X[i], weights) + bias\n",
        "            y_pred = 1 if linear_output >= 0 else 0\n",
        "\n",
        "            # Check if the prediction is correct\n",
        "            if y_pred == y[i]:\n",
        "                correct_predictions += 1\n",
        "\n",
        "            # Update weights and bias if prediction is incorrect\n",
        "            error = y[i] - y_pred\n",
        "            weights += learning_rate * error * X[i]\n",
        "            bias += learning_rate * error\n",
        "\n",
        "        # Print accuracy for the current epoch\n",
        "        accuracy = correct_predictions / len(y)\n",
        "        print(f\"Epoch {epoch + 1}/{epochs}, Accuracy: {accuracy:.2f}\")\n",
        "\n",
        "    return weights, bias, accuracy"
      ]
    },
    {
      "cell_type": "markdown",
      "metadata": {
        "id": "AHGMnXeRw1rQ"
      },
      "source": [
        "### Answer to Question 5: What is the purpose of the output = np.dot(X[i], weights) + bias line?\n",
        "\n",
        "This line calculates the weighted sum of inputs plus the bias, which is the aggregated input to the perceptron. It performs the following operation:\n",
        "- Multiplies each feature value by its corresponding weight\n",
        "- Sums up all these products\n",
        "- Adds the bias term\n",
        "\n",
        "This computation is the linear part of the perceptron model before applying the activation function. The result determines which side of the decision boundary the input falls on. It's essentially computing the equation of a hyperplane in the feature space."
      ]
    },
    {
      "cell_type": "markdown",
      "metadata": {
        "id": "9hfhjLxaw1rQ"
      },
      "source": [
        "### Answer to Question 6: What happens when the prediction is wrong? How are the weights and bias updated?\n",
        "\n",
        "When the prediction is wrong (the predicted label doesn't match the true label), the perceptron learning rule is applied to update the weights and bias:\n",
        "\n",
        "1. For weights: `weights = weights + learning_rate * (true_label - predicted_label) * input_features`\n",
        "2. For bias: `bias = bias + learning_rate * (true_label - predicted_label)`\n",
        "\n",
        "This update moves the decision boundary in the direction that would correctly classify the misclassified example:\n",
        "- If the true label is 1 but the prediction was 0, the weights are increased, making that input more likely to activate the perceptron next time.\n",
        "- If the true label is 0 but the prediction was 1, the weights are decreased, making that input less likely to activate the perceptron next time.\n",
        "\n",
        "The magnitude of the update is controlled by the learning rate, and the direction is determined by the input features of the misclassified example."
      ]
    },
    {
      "cell_type": "markdown",
      "metadata": {
        "id": "L8q9Ns8nw1rR"
      },
      "source": [
        "### Answer to Question 7: Why is the final accuracy important, and what do you expect it to be?\n",
        "\n",
        "The final accuracy is important because it measures how well our perceptron model has learned to distinguish between digits 0 and 1. It tells us the proportion of correctly classified examples out of the total examples.\n",
        "\n",
        "For the 0 vs 1 classification task, we should expect a very high accuracy (close to 100%) because:\n",
        "1. Digits 0 and 1 have very distinct visual patterns that are easily distinguishable\n",
        "2. This is a linearly separable problem, which the perceptron is guaranteed to solve perfectly given enough training iterations\n",
        "3. The difference between these digits is clear even in low-resolution images (the central pixels for digit 1 are active, while digit 0 has an \"empty\" center with active pixels around the edges)\n",
        "\n",
        "If the accuracy is significantly below 100%, it might indicate:\n",
        "- Insufficient training iterations\n",
        "- Too low learning rate\n",
        "- Issues with the dataset (noisy or corrupted images)\n",
        "- Implementation errors in the perceptron algorithm"
      ]
    },
    {
      "cell_type": "markdown",
      "metadata": {
        "id": "ouDB5REyw1rR"
      },
      "source": [
        "### Putting it All Together"
      ]
    },
    {
      "cell_type": "code",
      "execution_count": null,
      "metadata": {
        "id": "kg08D6DAw1rR",
        "outputId": "7916a0b3-1dbf-463a-af9d-9f40192aff3c"
      },
      "outputs": [
        {
          "name": "stdout",
          "output_type": "stream",
          "text": [
            "Epoch 1/100, Accuracy: 1.00\n",
            "Epoch 2/100, Accuracy: 1.00\n",
            "Epoch 3/100, Accuracy: 1.00\n",
            "Epoch 4/100, Accuracy: 1.00\n",
            "Epoch 5/100, Accuracy: 1.00\n",
            "Epoch 6/100, Accuracy: 1.00\n",
            "Epoch 7/100, Accuracy: 1.00\n",
            "Epoch 8/100, Accuracy: 1.00\n",
            "Epoch 9/100, Accuracy: 1.00\n",
            "Epoch 10/100, Accuracy: 1.00\n",
            "Epoch 11/100, Accuracy: 1.00\n",
            "Epoch 12/100, Accuracy: 1.00\n",
            "Epoch 13/100, Accuracy: 1.00\n",
            "Epoch 14/100, Accuracy: 1.00\n",
            "Epoch 15/100, Accuracy: 1.00\n",
            "Epoch 16/100, Accuracy: 1.00\n",
            "Epoch 17/100, Accuracy: 1.00\n",
            "Epoch 18/100, Accuracy: 1.00\n",
            "Epoch 19/100, Accuracy: 1.00\n",
            "Epoch 20/100, Accuracy: 1.00\n",
            "Epoch 21/100, Accuracy: 1.00\n",
            "Epoch 22/100, Accuracy: 1.00\n",
            "Epoch 23/100, Accuracy: 1.00\n",
            "Epoch 24/100, Accuracy: 1.00\n",
            "Epoch 25/100, Accuracy: 1.00\n",
            "Epoch 26/100, Accuracy: 1.00\n",
            "Epoch 27/100, Accuracy: 1.00\n",
            "Epoch 28/100, Accuracy: 1.00\n",
            "Epoch 29/100, Accuracy: 1.00\n",
            "Epoch 30/100, Accuracy: 1.00\n",
            "Epoch 31/100, Accuracy: 1.00\n",
            "Epoch 32/100, Accuracy: 1.00\n",
            "Epoch 33/100, Accuracy: 1.00\n",
            "Epoch 34/100, Accuracy: 1.00\n",
            "Epoch 35/100, Accuracy: 1.00\n",
            "Epoch 36/100, Accuracy: 1.00\n",
            "Epoch 37/100, Accuracy: 1.00\n",
            "Epoch 38/100, Accuracy: 1.00\n",
            "Epoch 39/100, Accuracy: 1.00\n",
            "Epoch 40/100, Accuracy: 1.00\n",
            "Epoch 41/100, Accuracy: 1.00\n",
            "Epoch 42/100, Accuracy: 1.00\n",
            "Epoch 43/100, Accuracy: 1.00\n",
            "Epoch 44/100, Accuracy: 1.00\n",
            "Epoch 45/100, Accuracy: 1.00\n",
            "Epoch 46/100, Accuracy: 1.00\n",
            "Epoch 47/100, Accuracy: 1.00\n",
            "Epoch 48/100, Accuracy: 1.00\n",
            "Epoch 49/100, Accuracy: 1.00\n",
            "Epoch 50/100, Accuracy: 1.00\n",
            "Epoch 51/100, Accuracy: 1.00\n",
            "Epoch 52/100, Accuracy: 1.00\n",
            "Epoch 53/100, Accuracy: 1.00\n",
            "Epoch 54/100, Accuracy: 1.00\n",
            "Epoch 55/100, Accuracy: 1.00\n",
            "Epoch 56/100, Accuracy: 1.00\n",
            "Epoch 57/100, Accuracy: 1.00\n",
            "Epoch 58/100, Accuracy: 1.00\n",
            "Epoch 59/100, Accuracy: 1.00\n",
            "Epoch 60/100, Accuracy: 1.00\n",
            "Epoch 61/100, Accuracy: 1.00\n",
            "Epoch 62/100, Accuracy: 1.00\n",
            "Epoch 63/100, Accuracy: 1.00\n",
            "Epoch 64/100, Accuracy: 1.00\n",
            "Epoch 65/100, Accuracy: 1.00\n",
            "Epoch 66/100, Accuracy: 1.00\n",
            "Epoch 67/100, Accuracy: 1.00\n",
            "Epoch 68/100, Accuracy: 1.00\n",
            "Epoch 69/100, Accuracy: 1.00\n",
            "Epoch 70/100, Accuracy: 1.00\n",
            "Epoch 71/100, Accuracy: 1.00\n",
            "Epoch 72/100, Accuracy: 1.00\n",
            "Epoch 73/100, Accuracy: 1.00\n",
            "Epoch 74/100, Accuracy: 1.00\n",
            "Epoch 75/100, Accuracy: 1.00\n",
            "Epoch 76/100, Accuracy: 1.00\n",
            "Epoch 77/100, Accuracy: 1.00\n",
            "Epoch 78/100, Accuracy: 1.00\n",
            "Epoch 79/100, Accuracy: 1.00\n",
            "Epoch 80/100, Accuracy: 1.00\n",
            "Epoch 81/100, Accuracy: 1.00\n",
            "Epoch 82/100, Accuracy: 1.00\n",
            "Epoch 83/100, Accuracy: 1.00\n",
            "Epoch 84/100, Accuracy: 1.00\n",
            "Epoch 85/100, Accuracy: 1.00\n",
            "Epoch 86/100, Accuracy: 1.00\n",
            "Epoch 87/100, Accuracy: 1.00\n",
            "Epoch 88/100, Accuracy: 1.00\n",
            "Epoch 89/100, Accuracy: 1.00\n",
            "Epoch 90/100, Accuracy: 1.00\n",
            "Epoch 91/100, Accuracy: 1.00\n",
            "Epoch 92/100, Accuracy: 1.00\n",
            "Epoch 93/100, Accuracy: 1.00\n",
            "Epoch 94/100, Accuracy: 1.00\n",
            "Epoch 95/100, Accuracy: 1.00\n",
            "Epoch 96/100, Accuracy: 1.00\n",
            "Epoch 97/100, Accuracy: 1.00\n",
            "Epoch 98/100, Accuracy: 1.00\n",
            "Epoch 99/100, Accuracy: 1.00\n",
            "Epoch 100/100, Accuracy: 1.00\n",
            "The Final Accuracy is:  1.0\n"
          ]
        }
      ],
      "source": [
        "# After training the model with the perceptron_learning_algorithm\n",
        "weights, bias, accuracy = train_perceptron(X, y, weights, bias)\n",
        "# Evaluate the model using the new function\n",
        "print(\"The Final Accuracy is: \", accuracy)"
      ]
    },
    {
      "cell_type": "markdown",
      "metadata": {
        "id": "BnJgJ9ryw1rR"
      },
      "source": [
        "### Visualizing Misclassified Images"
      ]
    },
    {
      "cell_type": "code",
      "execution_count": null,
      "metadata": {
        "id": "hsMJXwBtw1rS",
        "outputId": "0c33d70b-8948-4d60-f3f9-3230e409e69c"
      },
      "outputs": [
        {
          "name": "stdout",
          "output_type": "stream",
          "text": [
            "Final Accuracy: 1.0000\n",
            "All images were correctly classified!\n"
          ]
        }
      ],
      "source": [
        "# Get predictions for all data points\n",
        "predictions = np.dot(X, weights) + bias\n",
        "y_pred = np.where(predictions >= 0, 1, 0)\n",
        "# Calculate final accuracy\n",
        "final_accuracy = np.mean(y_pred == y)\n",
        "print(f\"Final Accuracy: {final_accuracy:.4f}\")\n",
        "# Step 5: Visualize Misclassified Images\n",
        "misclassified_idx = np.where(y_pred != y)[0]\n",
        "if len(misclassified_idx) > 0:\n",
        "    fig, axes = plt.subplots(2, 5, figsize=(10, 5))\n",
        "    for ax, idx in zip(axes.flat, misclassified_idx[:10]): # Show 10 misclassified images\n",
        "        ax.imshow(X[idx].reshape(28, 28), cmap=\"gray\")\n",
        "        ax.set_title(f\"Pred: {y_pred[idx]}, True: {y[idx]}\")\n",
        "        ax.axis(\"off\")\n",
        "    plt.suptitle(\"Misclassified Images\")\n",
        "    plt.show()\n",
        "else:\n",
        "    print(\"All images were correctly classified!\")"
      ]
    },
    {
      "cell_type": "markdown",
      "metadata": {
        "id": "awMjVoB7w1rS"
      },
      "source": [
        "### Answer to Question 8: What does misclassified_idx store, and how is it used in this code?\n",
        "\n",
        "The `misclassified_idx` variable stores the indices of all samples where the predicted label doesn't match the true label. It's created using `np.where(y_pred != y)[0]`, which returns the indices where the condition `y_pred != y` is true.\n",
        "\n",
        "In the code, these indices are used to:\n",
        "1. Determine if there are any misclassified images (`if len(misclassified_idx) > 0`)\n",
        "2. Access and display the first 10 misclassified images (or fewer if there are less than 10)\n",
        "3. Show both the predicted label and the true label for each misclassified image\n",
        "\n",
        "This visualization helps us understand what types of images the perceptron struggles to classify correctly, which can provide insights into the model's limitations or potential issues with the dataset."
      ]
    },
    {
      "cell_type": "markdown",
      "metadata": {
        "id": "bCxIWiPGw1rS"
      },
      "source": [
        "### Answer to Question 9: How do you interpret the result if the output is \"All images were correctly classified!\"?\n",
        "\n",
        "If the output is \"All images were correctly classified!\", this means the perceptron has achieved perfect accuracy (100%) on the dataset. This can be interpreted as:\n",
        "\n",
        "1. **Successful Learning**: The perceptron has successfully learned a decision boundary that perfectly separates digits 0 and 1.\n",
        "\n",
        "2. **Linear Separability Confirmed**: It confirms that the 0 vs 1 classification problem is indeed linearly separable in the pixel space.\n",
        "\n",
        "3. **Model Adequacy**: The simple perceptron model is sufficient for this particular classification task, without needing more complex models.\n",
        "\n",
        "4. **Convergence of Algorithm**: The perceptron learning algorithm has converged to an optimal solution.\n",
        "\n",
        "5. **Potential Overfitting**: If this is training data, perfect accuracy might indicate that the model has memorized the training examples rather than generalizing. We would need to evaluate on separate test data to confirm the model's true performance.\n",
        "\n",
        "For the specific case of distinguishing between digits 0 and 1, perfect classification is actually expected since these digits have very distinct visual patterns that are easily separable with a linear model."
      ]
    },
    {
      "cell_type": "markdown",
      "metadata": {
        "id": "fxm4md8iw1rS"
      },
      "source": [
        "## Task 3: Perceptron Algorithm for 3 vs 5 Classification\n",
        "\n",
        "In this task, we'll apply the same perceptron algorithm to classify digits 3 and 5, which is a more challenging problem than distinguishing between 0 and 1."
      ]
    },
    {
      "cell_type": "code",
      "execution_count": null,
      "metadata": {
        "id": "vNHu3BLtw1rT",
        "outputId": "130d3cf8-a3a9-4e0d-f72e-5a6c26921d11"
      },
      "outputs": [
        {
          "name": "stdout",
          "output_type": "stream",
          "text": [
            "Feature matrix shape: (2741, 784)\n",
            "Label vector shape: (2741,)\n"
          ]
        }
      ],
      "source": [
        "import pandas as pd\n",
        "import numpy as np\n",
        "\n",
        "# Load the dataset\n",
        "df_3_5 = pd.read_csv(\"./mnist_3_and_5.csv\") # Add the correct file path if necessary\n",
        "\n",
        "# Extract features and labels\n",
        "X = df_3_5.drop(columns=[\"label\"]).values # 784 pixels\n",
        "y = df_3_5[\"label\"].values # Labels (3 or 5)\n",
        "\n",
        "# Check the shape of the features and labels\n",
        "print(\"Feature matrix shape:\", X.shape)\n",
        "print(\"Label vector shape:\", y.shape)"
      ]
    },
    {
      "cell_type": "code",
      "execution_count": null,
      "metadata": {
        "id": "OVMpdDbrw1rT",
        "outputId": "31abe3bf-4816-46fe-d4af-8466c7b6b9d8"
      },
      "outputs": [
        {
          "data": {
            "image/png": "[encoded data removed]",
            "text/plain": [
              "<Figure size 1000x500 with 10 Axes>"
            ]
          },
          "metadata": {},
          "output_type": "display_data"
        }
      ],
      "source": [
        "import matplotlib.pyplot as plt\n",
        "\n",
        "# Separate images for label 0 and label 1\n",
        "images_3 = X[y == 3] # Get all images with label 3\n",
        "images_5 = X[y == 5] # Get all images with label 5\n",
        "fig, axes = plt.subplots(2, 5, figsize=(10, 5))\n",
        "# Check if the arrays have the required amount of data\n",
        "if len(images_3) < 5 or len(images_5) < 5:\n",
        "    print(\"Error: Not enough images in images_3 or images_5 to plot 5 images.\")\n",
        "else:\n",
        "    for i in range(5):\n",
        "        # Plot digit 0\n",
        "        axes[0, i].imshow(images_3[i].reshape(28, 28), cmap=\"gray\")\n",
        "        axes[0, i].set_title(\"Label: 3\")\n",
        "        axes[0, i].axis(\"off\")\n",
        "        # Plot digit 1\n",
        "        axes[1, i].imshow(images_5[i].reshape(28, 28), cmap=\"gray\")\n",
        "        axes[1, i].set_title(\"Label: 5\")\n",
        "        axes[1, i].axis(\"off\")\n",
        "    plt.suptitle(\"First 5 Images of 3 and 5 from MNIST Subset\")\n",
        "    plt.show()"
      ]
    },
    {
      "cell_type": "code",
      "execution_count": null,
      "metadata": {
        "id": "SqWGZHmGw1rT"
      },
      "outputs": [],
      "source": [
        "# Initialize weights and bias\n",
        "weights = np.zeros(X.shape[1]) # 784 weights (one for each pixel)\n",
        "bias = 0\n",
        "learning_rate = 0.1\n",
        "epochs = 100"
      ]
    },
    {
      "cell_type": "code",
      "execution_count": null,
      "metadata": {
        "id": "KCm6qcQEw1rT",
        "outputId": "70a78b65-a3ff-4028-e426-a89e5c4946de"
      },
      "outputs": [
        {
          "name": "stdout",
          "output_type": "stream",
          "text": [
            "Epoch 1/100, Accuracy: 0.00\n",
            "Epoch 2/100, Accuracy: 0.00\n",
            "Epoch 3/100, Accuracy: 0.00\n",
            "Epoch 4/100, Accuracy: 0.00\n",
            "Epoch 5/100, Accuracy: 0.00\n",
            "Epoch 6/100, Accuracy: 0.00\n",
            "Epoch 7/100, Accuracy: 0.00\n",
            "Epoch 8/100, Accuracy: 0.00\n",
            "Epoch 9/100, Accuracy: 0.00\n",
            "Epoch 10/100, Accuracy: 0.00\n",
            "Epoch 11/100, Accuracy: 0.00\n",
            "Epoch 12/100, Accuracy: 0.00\n",
            "Epoch 13/100, Accuracy: 0.00\n",
            "Epoch 14/100, Accuracy: 0.00\n",
            "Epoch 15/100, Accuracy: 0.00\n",
            "Epoch 16/100, Accuracy: 0.00\n",
            "Epoch 17/100, Accuracy: 0.00\n",
            "Epoch 18/100, Accuracy: 0.00\n",
            "Epoch 19/100, Accuracy: 0.00\n",
            "Epoch 20/100, Accuracy: 0.00\n",
            "Epoch 21/100, Accuracy: 0.00\n",
            "Epoch 22/100, Accuracy: 0.00\n",
            "Epoch 23/100, Accuracy: 0.00\n",
            "Epoch 24/100, Accuracy: 0.00\n",
            "Epoch 25/100, Accuracy: 0.00\n",
            "Epoch 26/100, Accuracy: 0.00\n",
            "Epoch 27/100, Accuracy: 0.00\n",
            "Epoch 28/100, Accuracy: 0.00\n",
            "Epoch 29/100, Accuracy: 0.00\n",
            "Epoch 30/100, Accuracy: 0.00\n",
            "Epoch 31/100, Accuracy: 0.00\n",
            "Epoch 32/100, Accuracy: 0.00\n",
            "Epoch 33/100, Accuracy: 0.00\n",
            "Epoch 34/100, Accuracy: 0.00\n",
            "Epoch 35/100, Accuracy: 0.00\n",
            "Epoch 36/100, Accuracy: 0.00\n",
            "Epoch 37/100, Accuracy: 0.00\n",
            "Epoch 38/100, Accuracy: 0.00\n",
            "Epoch 39/100, Accuracy: 0.00\n",
            "Epoch 40/100, Accuracy: 0.00\n",
            "Epoch 41/100, Accuracy: 0.00\n",
            "Epoch 42/100, Accuracy: 0.00\n",
            "Epoch 43/100, Accuracy: 0.00\n",
            "Epoch 44/100, Accuracy: 0.00\n",
            "Epoch 45/100, Accuracy: 0.00\n",
            "Epoch 46/100, Accuracy: 0.00\n",
            "Epoch 47/100, Accuracy: 0.00\n",
            "Epoch 48/100, Accuracy: 0.00\n",
            "Epoch 49/100, Accuracy: 0.00\n",
            "Epoch 50/100, Accuracy: 0.00\n",
            "Epoch 51/100, Accuracy: 0.00\n",
            "Epoch 52/100, Accuracy: 0.00\n",
            "Epoch 53/100, Accuracy: 0.00\n",
            "Epoch 54/100, Accuracy: 0.00\n",
            "Epoch 55/100, Accuracy: 0.00\n",
            "Epoch 56/100, Accuracy: 0.00\n",
            "Epoch 57/100, Accuracy: 0.00\n",
            "Epoch 58/100, Accuracy: 0.00\n",
            "Epoch 59/100, Accuracy: 0.00\n",
            "Epoch 60/100, Accuracy: 0.00\n",
            "Epoch 61/100, Accuracy: 0.00\n",
            "Epoch 62/100, Accuracy: 0.00\n",
            "Epoch 63/100, Accuracy: 0.00\n",
            "Epoch 64/100, Accuracy: 0.00\n",
            "Epoch 65/100, Accuracy: 0.00\n",
            "Epoch 66/100, Accuracy: 0.00\n",
            "Epoch 67/100, Accuracy: 0.00\n",
            "Epoch 68/100, Accuracy: 0.00\n",
            "Epoch 69/100, Accuracy: 0.00\n",
            "Epoch 70/100, Accuracy: 0.00\n",
            "Epoch 71/100, Accuracy: 0.00\n",
            "Epoch 72/100, Accuracy: 0.00\n",
            "Epoch 73/100, Accuracy: 0.00\n",
            "Epoch 74/100, Accuracy: 0.00\n",
            "Epoch 75/100, Accuracy: 0.00\n",
            "Epoch 76/100, Accuracy: 0.00\n",
            "Epoch 77/100, Accuracy: 0.00\n",
            "Epoch 78/100, Accuracy: 0.00\n",
            "Epoch 79/100, Accuracy: 0.00\n",
            "Epoch 80/100, Accuracy: 0.00\n",
            "Epoch 81/100, Accuracy: 0.00\n",
            "Epoch 82/100, Accuracy: 0.00\n",
            "Epoch 83/100, Accuracy: 0.00\n",
            "Epoch 84/100, Accuracy: 0.00\n",
            "Epoch 85/100, Accuracy: 0.00\n",
            "Epoch 86/100, Accuracy: 0.00\n",
            "Epoch 87/100, Accuracy: 0.00\n",
            "Epoch 88/100, Accuracy: 0.00\n",
            "Epoch 89/100, Accuracy: 0.00\n",
            "Epoch 90/100, Accuracy: 0.00\n",
            "Epoch 91/100, Accuracy: 0.00\n",
            "Epoch 92/100, Accuracy: 0.00\n",
            "Epoch 93/100, Accuracy: 0.00\n",
            "Epoch 94/100, Accuracy: 0.00\n",
            "Epoch 95/100, Accuracy: 0.00\n",
            "Epoch 96/100, Accuracy: 0.00\n",
            "Epoch 97/100, Accuracy: 0.00\n",
            "Epoch 98/100, Accuracy: 0.00\n",
            "Epoch 99/100, Accuracy: 0.00\n",
            "Epoch 100/100, Accuracy: 0.00\n",
            "The Final Accuracy is:  0.0\n"
          ]
        }
      ],
      "source": [
        "# After training the model with the perceptron_learning_algorithm\n",
        "weights, bias, accuracy = train_perceptron(X, y, weights, bias)\n",
        "# Evaluate the model using the new function\n",
        "print(\"The Final Accuracy is: \", accuracy)"
      ]
    },
    {
      "cell_type": "code",
      "execution_count": null,
      "metadata": {
        "id": "66Zpe9qaw1rT",
        "outputId": "7effb101-aeff-4aeb-fd2f-9fcd7d26f56c"
      },
      "outputs": [
        {
          "name": "stdout",
          "output_type": "stream",
          "text": [
            "Final Accuracy: 0.0000\n"
          ]
        },
        {
          "data": {
            "image/png": "[encoded data removed]",
            "text/plain": [
              "<Figure size 1000x500 with 10 Axes>"
            ]
          },
          "metadata": {},
          "output_type": "display_data"
        }
      ],
      "source": [
        "# Get predictions for all data points\n",
        "predictions = np.dot(X, weights) + bias\n",
        "y_pred = np.where(predictions >= 0, 1, 0)\n",
        "# Calculate final accuracy\n",
        "final_accuracy = np.mean(y_pred == y)\n",
        "print(f\"Final Accuracy: {final_accuracy:.4f}\")\n",
        "# Step 5: Visualize Misclassified Images\n",
        "misclassified_idx = np.where(y_pred != y)[0]\n",
        "if len(misclassified_idx) > 0:\n",
        "    fig, axes = plt.subplots(2, 5, figsize=(10, 5))\n",
        "    for ax, idx in zip(axes.flat, misclassified_idx[:10]): # Show 10 misclassified images\n",
        "        ax.imshow(X[idx].reshape(28, 28), cmap=\"gray\")\n",
        "        ax.set_title(f\"Pred: {y_pred[idx]}, True: {y[idx]}\")\n",
        "        ax.axis(\"off\")\n",
        "    plt.suptitle(\"Misclassified Images\")\n",
        "    plt.show()\n",
        "else:\n",
        "    print(\"All images were correctly classified!\")"
      ]
    }
  ],
  "metadata": {
    "kernelspec": {
      "display_name": "Python 3",
      "language": "python",
      "name": "python3"
    },
    "language_info": {
      "codemirror_mode": {
        "name": "ipython",
        "version": 3
      },
      "file_extension": ".py",
      "mimetype": "text/x-python",
      "name": "python",
      "nbconvert_exporter": "python",
      "pygments_lexer": "ipython3",
      "version": "3.13.2"
    },
    "colab": {
      "provenance": []
    }
  },
  "nbformat": 4,
  "nbformat_minor": 0
}